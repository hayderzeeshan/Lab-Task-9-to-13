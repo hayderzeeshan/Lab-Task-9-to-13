{
 "cells": [
  {
   "cell_type": "code",
   "execution_count": 1,
   "id": "ab5aa1a5-5591-4618-87da-79e6b37ad4c9",
   "metadata": {},
   "outputs": [],
   "source": [
    "import pandas as pd\n",
    "from sklearn.preprocessing import StandardScaler\n",
    "from sklearn.model_selection import train_test_split"
   ]
  },
  {
   "cell_type": "code",
   "execution_count": 2,
   "id": "3af47149-63bb-4833-bafd-e7d69bb9a0b4",
   "metadata": {},
   "outputs": [],
   "source": [
    "\n",
    "df = pd.read_csv('kaggle_diabetes.csv')"
   ]
  },
  {
   "cell_type": "code",
   "execution_count": 3,
   "id": "3797dac6",
   "metadata": {},
   "outputs": [
    {
     "name": "stdout",
     "output_type": "stream",
     "text": [
      "Pregnancies                 0\n",
      "Glucose                     0\n",
      "BloodPressure               0\n",
      "SkinThickness               0\n",
      "Insulin                     0\n",
      "BMI                         0\n",
      "DiabetesPedigreeFunction    0\n",
      "Age                         0\n",
      "Outcome                     0\n",
      "dtype: int64\n"
     ]
    }
   ],
   "source": [
    "\n",
    "print(df.isnull().sum())"
   ]
  },
  {
   "cell_type": "code",
   "execution_count": 4,
   "id": "ffeed74d",
   "metadata": {},
   "outputs": [
    {
     "name": "stdout",
     "output_type": "stream",
     "text": [
      "Pregnancies                 0\n",
      "Glucose                     0\n",
      "BloodPressure               0\n",
      "SkinThickness               0\n",
      "Insulin                     0\n",
      "BMI                         0\n",
      "DiabetesPedigreeFunction    0\n",
      "Age                         0\n",
      "Outcome                     0\n",
      "dtype: int64\n"
     ]
    }
   ],
   "source": [
    "df = df.dropna()\n",
    "print(df.isnull().sum())"
   ]
  },
  {
   "cell_type": "code",
   "execution_count": 5,
   "id": "33e059e2",
   "metadata": {},
   "outputs": [
    {
     "name": "stdout",
     "output_type": "stream",
     "text": [
      "   Pregnancies   Glucose  BloodPressure  SkinThickness  Insulin   BMI  \\\n",
      "0            2  0.524553      -0.372481             35        0  33.6   \n",
      "1            0 -1.159756       0.670080             31      125  38.2   \n",
      "2            0  0.742890      -3.604422              0        0  44.2   \n",
      "3            0  0.430980      -0.059713             42      250  42.3   \n",
      "4            1  0.555744      -0.372481             41      480  40.7   \n",
      "\n",
      "   DiabetesPedigreeFunction  Age  Outcome  \n",
      "0                     0.127   47        1  \n",
      "1                     0.233   23        0  \n",
      "2                     0.630   31        1  \n",
      "3                     0.365   24        1  \n",
      "4                     0.536   21        0  \n"
     ]
    }
   ],
   "source": [
    "from sklearn.preprocessing import StandardScaler\n",
    "scaler = StandardScaler()\n",
    "df[['Glucose', 'BloodPressure']] = scaler.fit_transform(df[['Glucose', 'BloodPressure']])\n",
    "print(df.head())"
   ]
  },
  {
   "cell_type": "code",
   "execution_count": 6,
   "id": "e3771bdd",
   "metadata": {},
   "outputs": [],
   "source": [
    "from sklearn.model_selection import train_test_split\n",
    "X = df[['Glucose']] \n",
    "y = df['BloodPressure']  \n",
    "X_train, X_test, y_train, y_test = train_test_split(X, y, test_size=0.2, random_state=42)"
   ]
  },
  {
   "cell_type": "code",
   "execution_count": 7,
   "id": "28e3608a",
   "metadata": {},
   "outputs": [
    {
     "name": "stdout",
     "output_type": "stream",
     "text": [
      "Training set size: 1600 rows\n",
      "Test set size: 400 rows\n"
     ]
    }
   ],
   "source": [
    "print(f\"Training set size: {X_train.shape[0]} rows\")\n",
    "print(f\"Test set size: {X_test.shape[0]} rows\")"
   ]
  },
  {
   "cell_type": "code",
   "execution_count": 8,
   "id": "f016d1f2",
   "metadata": {},
   "outputs": [],
   "source": [
    "from sklearn.svm import SVR\n",
    "from sklearn.metrics import mean_absolute_error, mean_squared_error, r2_score\n",
    "model_svr = SVR()"
   ]
  },
  {
   "cell_type": "code",
   "execution_count": 9,
   "id": "3f7309e9",
   "metadata": {},
   "outputs": [],
   "source": [
    "model_svr.fit(X_train, y_train)\n",
    "y_pred = model_svr.predict(X_test)\n",
    "mae = mean_absolute_error(y_test, y_pred)\n",
    "mse = mean_squared_error(y_test, y_pred)\n",
    "r2 = r2_score(y_test, y_pred)"
   ]
  },
  {
   "cell_type": "code",
   "execution_count": 10,
   "id": "fac665cc",
   "metadata": {},
   "outputs": [
    {
     "name": "stdout",
     "output_type": "stream",
     "text": [
      "Mean Absolute Error (MAE): 0.6914951459418895\n",
      "Mean Squared Error (MSE): 1.1855265515563715\n",
      "R-squared (R²): -0.034109408186742574\n"
     ]
    }
   ],
   "source": [
    "print(f\"Mean Absolute Error (MAE): {mae}\")\n",
    "print(f\"Mean Squared Error (MSE): {mse}\")\n",
    "print(f\"R-squared (R²): {r2}\")"
   ]
  },
  {
   "cell_type": "code",
   "execution_count": 11,
   "id": "bf6dbc8e",
   "metadata": {},
   "outputs": [],
   "source": [
    "import pickle\n",
    "with open('svm_model.pkl', 'wb') as file:\n",
    "    pickle.dump(model_svr, file)"
   ]
  },
  {
   "cell_type": "code",
   "execution_count": null,
   "id": "2dc4a0e4",
   "metadata": {},
   "outputs": [],
   "source": []
  }
 ],
 "metadata": {
  "kernelspec": {
   "display_name": "Python 3",
   "language": "python",
   "name": "python3"
  },
  "language_info": {
   "codemirror_mode": {
    "name": "ipython",
    "version": 3
   },
   "file_extension": ".py",
   "mimetype": "text/x-python",
   "name": "python",
   "nbconvert_exporter": "python",
   "pygments_lexer": "ipython3",
   "version": "3.8.8"
  }
 },
 "nbformat": 4,
 "nbformat_minor": 5
}
